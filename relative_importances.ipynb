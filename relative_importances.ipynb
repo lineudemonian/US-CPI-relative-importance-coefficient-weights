{
 "cells": [
  {
   "cell_type": "code",
   "execution_count": 345,
   "id": "45ca44f8",
   "metadata": {},
   "outputs": [],
   "source": [
    "#reads all cpi xlsx files and save the relative importances of each major category by month\n",
    "#lineudemonia\n",
    "\n",
    "import warnings\n",
    "warnings.simplefilter(action='ignore', category=FutureWarning)\n",
    "import pandas as pd\n",
    "import numpy as np\n"
   ]
  },
  {
   "cell_type": "code",
   "execution_count": 348,
   "id": "e412cbd5",
   "metadata": {},
   "outputs": [],
   "source": [
    "# initiliza output dataframe\n",
    "\n",
    "# generate consecutive months\n",
    "dates_range= [d.strftime('%Y%m') for d in pd.date_range(start = '2014-12-31', end = '2022-10-01', freq ='M')]\n",
    "\n",
    "#generate weights\n",
    "weights_list = [\n",
    "    'All items',\n",
    "    'Food',\n",
    "    'Energy',\n",
    "    'Commodities less food and energy commodities',\n",
    "    'Services less energy services',\n",
    "    'Household furnishings and supplies',\n",
    "    'Apparel',\n",
    "    'Transportation commodities less motor fuel',\n",
    "    'Medical care commodities',\n",
    "    'Recreation commodities',\n",
    "    'Education and communication commodities',\n",
    "    'Alcoholic beverages',\n",
    "    'Other goods',\n",
    "    'Shelter',\n",
    "    'Water and sewer and trash collection services',\n",
    "    'Household operations',\n",
    "    'Medical care services',\n",
    "    'Transportation services',\n",
    "    'Recreation services',\n",
    "    'Education and communication services',\n",
    "    'Other personal services'\n",
    "]\n",
    "\n",
    "months = {\n",
    "    '01':'Jan',\n",
    "    '02':'Feb',\n",
    "    '03':'Mar',\n",
    "    '04':'Apr',\n",
    "    '05':'May',\n",
    "    '06':'Jun',\n",
    "    '07':'Jul',\n",
    "    '08':'Aug',\n",
    "    '09':'Sep',\n",
    "    '10':'Oct',\n",
    "    '11':'Nov',\n",
    "    '12':'Dec'\n",
    "}\n",
    "\n",
    "df = pd.DataFrame(index = weights_list, columns = dates_range)"
   ]
  },
  {
   "cell_type": "code",
   "execution_count": 356,
   "id": "5eafc159",
   "metadata": {},
   "outputs": [],
   "source": [
    "# read file init:\n",
    "exp = 'Expenditure category'\n",
    "base_ri = 'Relative\\nimportance\\nDec.\\n2014'\n",
    "\n",
    "\n",
    "# return 'Relative\\nimportance\\nDec.\\n2014' for file name 201501 and so forth\n",
    "# every may doesnt have period afterwards. so weird\n",
    "\n",
    "def new_ri(a):\n",
    "    b = dates_range[dates_range.index(a) - 1]\n",
    "    year = b[:4]\n",
    "    month = months[b[4:]]\n",
    "    if month != 'May':\n",
    "        new_ri = base_ri[:20]+month+'.\\n'+year\n",
    "    else:\n",
    "        new_ri = base_ri[:20]+month+'\\n'+year\n",
    "    return new_ri\n",
    "\n",
    "# update excel file name\n",
    "def file_name(name):\n",
    "    name = 'cpi-u-'+name+'.xlsx'\n",
    "    return name"
   ]
  },
  {
   "cell_type": "code",
   "execution_count": 357,
   "id": "7dadaa67",
   "metadata": {},
   "outputs": [],
   "source": [
    "#read_excel\n",
    "\n",
    "for dates in dates_range[1:]:\n",
    "    excel_data = pd.read_excel(file_name(dates), sheet_name = 'US', header = 3)\n",
    "    excel_data[exp] = excel_data[exp].str.replace(r\"\\(.*\\)\",\"\")\n",
    "    for weights in weights_list:\n",
    "        df[dates][weights] = excel_data.loc[excel_data[exp]== weights] [new_ri(dates)].tolist()[0]"
   ]
  },
  {
   "cell_type": "code",
   "execution_count": 359,
   "id": "1e6da5a0",
   "metadata": {},
   "outputs": [],
   "source": [
    "#output\n",
    "\n",
    "df.to_excel('aggregated_relative_importances.xlsx')"
   ]
  }
 ],
 "metadata": {
  "kernelspec": {
   "display_name": "Python 3 (ipykernel)",
   "language": "python",
   "name": "python3"
  },
  "language_info": {
   "codemirror_mode": {
    "name": "ipython",
    "version": 3
   },
   "file_extension": ".py",
   "mimetype": "text/x-python",
   "name": "python",
   "nbconvert_exporter": "python",
   "pygments_lexer": "ipython3",
   "version": "3.9.13"
  }
 },
 "nbformat": 4,
 "nbformat_minor": 5
}
